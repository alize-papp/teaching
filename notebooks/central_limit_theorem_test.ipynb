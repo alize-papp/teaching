{
 "cells": [
  {
   "cell_type": "markdown",
   "id": "9f27d9d5",
   "metadata": {},
   "source": [
    "# Let's test the central limit theorem\n",
    "\n",
    "Credits: Alizé Papp\n",
    "\n",
    "Strong inspiration: Chris Albon's code, [here](https://github.com/chrisalbon/chrisalbon_com/blob/primary/content/code/statistics/frequentist/demonstrate_the_central_limit_theorem.md)\n",
    "\n",
    "Exercises:\n",
    "1. Run the notebook and read the comments\n",
    "1. Try changing different things in the code. How does it change the distribution of the empirical mean?\n",
    "  - the distribution (hint: you can use the distribution suggested in the comments, or any from https://numpy.org/doc/stable/reference/random/legacy.html#distributions).\n",
    "  - the sample size\n"
   ]
  },
  {
   "cell_type": "code",
   "execution_count": 1,
   "id": "a88ed9b8",
   "metadata": {},
   "outputs": [],
   "source": [
    "# Import packages\n",
    "import pandas as pd\n",
    "import numpy as np\n",
    "\n",
    "# Set matplotlib as inline\n",
    "%matplotlib inline  "
   ]
  },
  {
   "cell_type": "markdown",
   "id": "3d5701f1",
   "metadata": {},
   "source": [
    "## Create a population\n",
    "First we start by generating values for a population. We can pick any distribution here"
   ]
  },
  {
   "cell_type": "code",
   "execution_count": 2,
   "id": "ba9e4702",
   "metadata": {},
   "outputs": [
    {
     "data": {
      "text/plain": [
       "<AxesSubplot: >"
      ]
     },
     "execution_count": 2,
     "metadata": {},
     "output_type": "execute_result"
    },
    {
     "data": {
      "image/png": "[encoded data removed]",
      "text/plain": [
       "<Figure size 640x480 with 1 Axes>"
      ]
     },
     "metadata": {},
     "output_type": "display_data"
    }
   ],
   "source": [
    "## Create an empty dataframe\n",
    "population = pd.DataFrame()\n",
    "population_size = 10000\n",
    "# Create an column that is 10000 random numbers drawn from a uniform distribution\n",
    "\n",
    "population['numbers'] = np.random.uniform(0,10000,size=population_size)\n",
    "# Plot a histogram of the score data.\n",
    "# This confirms the data is not a normal distribution.\n",
    "population['numbers'].hist(bins=100)\n",
    "\n",
    "# Suggestions:\n",
    "# 1. A bimodal distribution\n",
    "# population['cluster'] = np.random.choice([0, 1], size=population_size)\n",
    "# population['numbers'] = population['cluster'] * np.random.normal(0, 1, size=population_size) + (1 - population['cluster']) * np.random.normal(10, 5, size=population_size)\n",
    "# 2. A U-shaped distribution\n",
    "# population['numbers'] = np.random.beta(0.5, 0.5, size=population_size)"
   ]
  },
  {
   "cell_type": "code",
   "execution_count": 3,
   "id": "7bd12c8e",
   "metadata": {},
   "outputs": [
    {
     "data": {
      "text/plain": [
       "5019.170248715092"
      ]
     },
     "execution_count": 3,
     "metadata": {},
     "output_type": "execute_result"
    }
   ],
   "source": [
    "# View the mean of the population\n",
    "population['numbers'].mean()"
   ]
  },
  {
   "cell_type": "markdown",
   "id": "fdc679a2",
   "metadata": {},
   "source": [
    "# Samples out of the population\n",
    "Now let's create 1000 samples out of this population and see how the mean of the samples behaves."
   ]
  },
  {
   "cell_type": "code",
   "execution_count": 4,
   "id": "68bc3d70",
   "metadata": {},
   "outputs": [],
   "source": [
    "sample_size = 100\n",
    "# Create a list\n",
    "sampled_means = []\n",
    "\n",
    "for i in range(0,1000):\n",
    "    # Take a random sample of 100 rows from the population, take the mean of those rows, append to sampled_means\n",
    "    sampled_means.append(population.sample(n=sample_size).mean().values[0])\n"
   ]
  },
  {
   "cell_type": "code",
   "execution_count": 5,
   "id": "78f8e036",
   "metadata": {},
   "outputs": [
    {
     "data": {
      "text/plain": [
       "<AxesSubplot: >"
      ]
     },
     "execution_count": 5,
     "metadata": {},
     "output_type": "execute_result"
    },
    {
     "data": {
      "image/png": "[encoded data removed]",
      "text/plain": [
       "<Figure size 640x480 with 1 Axes>"
      ]
     },
     "metadata": {},
     "output_type": "display_data"
    }
   ],
   "source": [
    "# Plot a histogram of sampled_means. \n",
    "# It is clearly normally distributed and centered around 5000\n",
    "pd.Series(sampled_means).hist(bins=100)"
   ]
  },
  {
   "cell_type": "markdown",
   "id": "3565a3aa",
   "metadata": {},
   "source": [
    "This is the critical chart, remember that the population distribution was uniform, however, this distribution is approaching normality. This is the key point to the central limit theory"
   ]
  },
  {
   "cell_type": "code",
   "execution_count": 6,
   "id": "e579e45e",
   "metadata": {},
   "outputs": [
    {
     "name": "stdout",
     "output_type": "stream",
     "text": [
      "Sample mean:  5026.259297926894\n",
      "The Mean Sample Mean is only -7.089049 different the True Population mean!\n"
     ]
    }
   ],
   "source": [
    "# View the mean of the sampled_means\n",
    "print(\"Sample mean: \", pd.Series(sampled_means).mean())\n",
    "# Subtract Mean Sample Mean From True Population Mean\n",
    "error = population['numbers'].mean() - pd.Series(sampled_means).mean()\n",
    "\n",
    "# Print\n",
    "print('The Mean Sample Mean is only %f different the True Population mean!' % error)"
   ]
  },
  {
   "cell_type": "code",
   "execution_count": null,
   "id": "05b72f65",
   "metadata": {},
   "outputs": [],
   "source": []
  }
 ],
 "metadata": {
  "kernelspec": {
   "display_name": "Python 3 (ipykernel)",
   "language": "python",
   "name": "python3"
  },
  "language_info": {
   "codemirror_mode": {
    "name": "ipython",
    "version": 3
   },
   "file_extension": ".py",
   "mimetype": "text/x-python",
   "name": "python",
   "nbconvert_exporter": "python",
   "pygments_lexer": "ipython3",
   "version": "3.9.11"
  }
 },
 "nbformat": 4,
 "nbformat_minor": 5
}
