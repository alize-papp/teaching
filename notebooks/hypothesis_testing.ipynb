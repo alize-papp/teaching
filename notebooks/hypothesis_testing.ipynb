{
 "cells": [
  {
   "cell_type": "code",
   "execution_count": 1,
   "id": "3b22ae38",
   "metadata": {},
   "outputs": [],
   "source": [
    "# Import packages\n",
    "import pandas as pd\n",
    "import numpy as np\n",
    "from scipy import stats\n",
    "import matplotlib.pyplot as plt\n",
    "\n",
    "# Set matplotlib as inline\n",
    "%matplotlib inline "
   ]
  },
  {
   "cell_type": "markdown",
   "id": "de03b249",
   "metadata": {},
   "source": [
    "# Equality of two means\n",
    "\n",
    "Imagine the following situation: a gaming company measures the happiness of its users by how long they played a given week. \n",
    "- If the users play 0 hours, they are not very engaged and likely not happy about the game\n",
    "- If the users play 10 hours, they're likely very happy about the game.\n",
    "- The company caps the playing time at 10 hours. \n",
    "\n",
    "They introduced a new feature and hope it will increase the playing time. "
   ]
  },
  {
   "cell_type": "markdown",
   "id": "f4621718",
   "metadata": {},
   "source": [
    "## Population simulation\n",
    "Note: in practice, you'd get a table with data about your sample. Here we generate it artificially"
   ]
  },
  {
   "cell_type": "code",
   "execution_count": 2,
   "id": "222745d9",
   "metadata": {},
   "outputs": [],
   "source": [
    "# df = pd.DataFrame()\n",
    "# df['value'] = stats.powerlaw.rvs(0.9, size=10000)\n",
    "# df['value'].hist(bins=100)"
   ]
  },
  {
   "cell_type": "code",
   "execution_count": 3,
   "id": "9c3ab41c",
   "metadata": {
    "scrolled": false
   },
   "outputs": [
    {
     "name": "stdout",
     "output_type": "stream",
     "text": [
      "Control 3.35, treatment 4.06\n"
     ]
    },
    {
     "data": {
      "image/png": "[encoded data removed]",
      "text/plain": [
       "<Figure size 640x480 with 1 Axes>"
      ]
     },
     "metadata": {},
     "output_type": "display_data"
    }
   ],
   "source": [
    "# Simulate two populations\n",
    "population_size = 10000\n",
    "population_control = pd.DataFrame()\n",
    "population_control['playing_time'] = 10 * stats.powerlaw.rvs(0.5, size=population_size)\n",
    "\n",
    "population_treatment = pd.DataFrame()\n",
    "population_treatment['playing_time'] = 10 * stats.powerlaw.rvs(0.68, size=population_size)\n",
    "# Plot\n",
    "population_control['playing_time'].hist(bins=100, alpha=0.3)\n",
    "population_treatment['playing_time'].hist(bins=100, alpha=0.3)\n",
    "\n",
    "print(\"Control {:.2f}, treatment {:.2f}\".format(population_control['playing_time'].mean(), population_treatment['playing_time'].mean()))\n"
   ]
  },
  {
   "cell_type": "markdown",
   "id": "53fb324c",
   "metadata": {},
   "source": [
    "## Sampling\n",
    "The company decides to test the feature on 600 users, they send half of them to the new experience (treatment) and half to the old one (control). They compare the average playing time"
   ]
  },
  {
   "cell_type": "code",
   "execution_count": 4,
   "id": "5f3ac2a8",
   "metadata": {},
   "outputs": [
    {
     "name": "stdout",
     "output_type": "stream",
     "text": [
      "\n",
      "    The average playing time is 3.21 in control and 3.97 in treatment. Is that difference statistically significant?\n",
      "    \n"
     ]
    },
    {
     "data": {
      "image/png": "[encoded data removed]",
      "text/plain": [
       "<Figure size 640x480 with 1 Axes>"
      ]
     },
     "metadata": {},
     "output_type": "display_data"
    }
   ],
   "source": [
    "# Sampling\n",
    "sample_size = 300\n",
    "sample_control = population_control.sample(n=sample_size)\n",
    "sample_treatment = population_treatment.sample(n=sample_size)\n",
    "sample_control['playing_time'].hist(bins=100, alpha=0.3)\n",
    "sample_treatment['playing_time'].hist(bins=100, alpha=0.3)\n",
    "print(\n",
    "    \"\"\"\n",
    "    The average playing time is {:.2f} in control and {:.2f} in treatment. Is that difference statistically significant?\n",
    "    \"\"\".format( \n",
    "        sample_control['playing_time'].mean(), \n",
    "        sample_treatment['playing_time'].mean()\n",
    "    )\n",
    ")"
   ]
  },
  {
   "cell_type": "markdown",
   "id": "70e8fb11",
   "metadata": {},
   "source": [
    "## Test\n",
    "To distinguish the noise from the signal, the company's data analyst runs a statistical test on the two means\n",
    "\n",
    "Note: Scipy is a python library that has many statistical tests: Looking at the documentation [here](https://docs.scipy.org/doc/scipy/reference/stats.html#statistical-tests), we find that we want to use a t-test [doc](https://docs.scipy.org/doc/scipy/reference/generated/scipy.stats.ttest_ind.html)"
   ]
  },
  {
   "cell_type": "code",
   "execution_count": 5,
   "id": "05ae65f1",
   "metadata": {},
   "outputs": [
    {
     "data": {
      "text/plain": [
       "Ttest_indResult(statistic=-3.213042174765968, pvalue=0.0013840097274891204)"
      ]
     },
     "execution_count": 5,
     "metadata": {},
     "output_type": "execute_result"
    }
   ],
   "source": [
    "stats.ttest_ind(sample_control['playing_time'], sample_treatment['playing_time'], equal_var=False)"
   ]
  },
  {
   "cell_type": "markdown",
   "id": "d0aff908",
   "metadata": {},
   "source": [
    "**Questions**\n",
    "1. What is the null hypothesis here? What is the alternative hypothesis?\n",
    "1. What is our metric? What is its value in our sample?\n",
    "1. What is the p-value? What do you decide?\n",
    "1. Look at the parameters of the function we used, what does `equal_var` mean? Why did we set it to False?\n",
    "1. Imagine you want to test whether the average playing time is higher, how would you modify the test?\n",
    "1. Have a look at other statistical tests scipy provide!"
   ]
  }
 ],
 "metadata": {
  "kernelspec": {
   "display_name": "Python 3 (ipykernel)",
   "language": "python",
   "name": "python3"
  },
  "language_info": {
   "codemirror_mode": {
    "name": "ipython",
    "version": 3
   },
   "file_extension": ".py",
   "mimetype": "text/x-python",
   "name": "python",
   "nbconvert_exporter": "python",
   "pygments_lexer": "ipython3",
   "version": "3.9.11"
  }
 },
 "nbformat": 4,
 "nbformat_minor": 5
}
